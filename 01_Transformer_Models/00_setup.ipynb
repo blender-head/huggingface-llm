{
 "cells": [
  {
   "cell_type": "markdown",
   "id": "6b89dc87-588f-48b6-a12f-2f6f42e46711",
   "metadata": {},
   "source": [
    "# Setup"
   ]
  },
  {
   "cell_type": "markdown",
   "id": "1b6f75ed-fba7-4151-83db-9da55aab5e17",
   "metadata": {},
   "source": [
    "## Using a Google Colab notebook"
   ]
  },
  {
   "cell_type": "markdown",
   "id": "b04b989f-ebda-4055-b7ec-e442db84fa8e",
   "metadata": {},
   "source": [
    "Using a Colab notebook is the simplest possible setup; boot up a notebook in your browser and get straight to coding!\n",
    "\n",
    "If you’re not familiar with Colab, we recommend you start by following the introduction. Colab allows you to use some accelerating hardware, like GPUs or TPUs, and it is free for smaller workloads.\n",
    "\n",
    "Once you’re comfortable moving around in Colab, create a new notebook and get started with the setup:"
   ]
  },
  {
   "cell_type": "markdown",
   "id": "44b11195-1877-46a8-8ac2-5369109b185e",
   "metadata": {},
   "source": [
    "![Google Colab](./images/new_colab.png)"
   ]
  },
  {
   "cell_type": "markdown",
   "id": "8ae28f9c-699a-4291-936a-01d0698a0197",
   "metadata": {},
   "source": [
    "The next step is to install the libraries that we’ll be using in this course. We’ll use pip for the installation, which is the package manager for Python. In notebooks, you can run system commands by preceding them with the ! character, so you can install the 🤗 Transformers library as follows:\n",
    "\n",
    "```\n",
    "!pip install transformers\n",
    "```\n",
    "\n",
    "You can make sure the package was correctly installed by importing it within your Python runtime:\n",
    "\n",
    "```\n",
    "import transformers\n",
    "```"
   ]
  },
  {
   "cell_type": "markdown",
   "id": "c2a57d2f-372b-4595-9971-8c524438059c",
   "metadata": {},
   "source": [
    "This installs a very light version of 🤗 Transformers. In particular, no specific machine learning frameworks (like PyTorch or TensorFlow) are installed. Since we’ll be using a lot of different features of the library, we recommend installing the development version, which comes with all the required dependencies for pretty much any imaginable use case:\n",
    "\n",
    "```\n",
    "!pip install transformers[sentencepiece]\n",
    "```\n",
    "\n",
    "This will take a bit of time, but then you’ll be ready to go for the rest of the course!"
   ]
  },
  {
   "cell_type": "code",
   "execution_count": null,
   "id": "f0f6abad-0d49-45db-ae2d-bf2385cdcba4",
   "metadata": {},
   "outputs": [],
   "source": []
  }
 ],
 "metadata": {
  "kernelspec": {
   "display_name": "Python 3 (ipykernel)",
   "language": "python",
   "name": "python3"
  },
  "language_info": {
   "codemirror_mode": {
    "name": "ipython",
    "version": 3
   },
   "file_extension": ".py",
   "mimetype": "text/x-python",
   "name": "python",
   "nbconvert_exporter": "python",
   "pygments_lexer": "ipython3",
   "version": "3.12.5"
  }
 },
 "nbformat": 4,
 "nbformat_minor": 5
}
