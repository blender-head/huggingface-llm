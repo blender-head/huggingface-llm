{
 "cells": [
  {
   "cell_type": "markdown",
   "id": "8198a578-1838-4486-9e01-cfb0b4ca947c",
   "metadata": {},
   "source": [
    "## Introduction"
   ]
  },
  {
   "cell_type": "markdown",
   "id": "9202cd04-892a-48df-a48f-73d693ba75eb",
   "metadata": {},
   "source": [
    "This course will teach you about large language models (LLMs) and natural language processing (NLP) using libraries from the Hugging Face ecosystem — 🤗 Transformers, 🤗 Datasets, 🤗 Tokenizers, and 🤗 Accelerate — as well as the Hugging Face Hub.\n",
    "\n",
    "We’ll also cover libraries outside the Hugging Face ecosystem. These are amazing contributions to the AI community and incredibly useful tools.\n",
    "\n",
    "It’s completely free and without ads."
   ]
  },
  {
   "cell_type": "markdown",
   "id": "74604883-ae0a-4d8d-a522-84c1ae614aa2",
   "metadata": {},
   "source": [
    "### Understanding NLP and LLMs"
   ]
  },
  {
   "cell_type": "markdown",
   "id": "f3e59c6f-1d19-448c-87b7-b3f7b677d75a",
   "metadata": {},
   "source": [
    "While this course was originally focused on NLP (Natural Language Processing), it has evolved to emphasize Large Language Models (LLMs), which represent the latest advancement in the field.\n",
    "\n",
    "What’s the difference?\n",
    "\n",
    "- NLP (Natural Language Processing) is the broader field focused on enabling computers to understand, interpret, and generate human language. NLP encompasses many techniques and tasks such as sentiment analysis, named entity recognition, and machine translation.\n",
    "- LLMs (Large Language Models) are a powerful subset of NLP models characterized by their massive size, extensive training data, and ability to perform a wide range of language tasks with minimal task-specific training. Models like the Llama, GPT, or Claude series are examples of LLMs that have revolutionized what’s possible in NLP.\n",
    "Throughout this course, you’ll learn about both traditional NLP concepts and cutting-edge LLM techniques, as understanding the foundations of NLP is crucial for working effectively with LLMs."
   ]
  },
  {
   "cell_type": "code",
   "execution_count": null,
   "id": "56e6c5f6-a05c-48a1-9765-3e07c605849f",
   "metadata": {},
   "outputs": [],
   "source": []
  }
 ],
 "metadata": {
  "kernelspec": {
   "display_name": "Python 3 (ipykernel)",
   "language": "python",
   "name": "python3"
  },
  "language_info": {
   "codemirror_mode": {
    "name": "ipython",
    "version": 3
   },
   "file_extension": ".py",
   "mimetype": "text/x-python",
   "name": "python",
   "nbconvert_exporter": "python",
   "pygments_lexer": "ipython3",
   "version": "3.12.5"
  }
 },
 "nbformat": 4,
 "nbformat_minor": 5
}
