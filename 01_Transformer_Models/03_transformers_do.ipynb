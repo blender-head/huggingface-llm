{
 "cells": [
  {
   "cell_type": "markdown",
   "id": "7ff0f5d0-eb86-48e5-866c-476d01bec8b8",
   "metadata": {},
   "source": [
    "## Transformers, what can they do?"
   ]
  },
  {
   "cell_type": "markdown",
   "id": "d0aca6bb-35fc-45ca-a012-c761ca75f388",
   "metadata": {},
   "source": [
    "In this section, we will look at what Transformer models can do and use our first tool from the 🤗 Transformers library: the `pipeline()` function.\n",
    "\n",
    "> 👀 See that Open in Colab button on the top right? Click on it to open a Google Colab notebook with all the code samples of this section. This button will be present in any section containing code examples.\n",
    "If you want to run the examples locally, we recommend taking a look at the setup."
   ]
  },
  {
   "cell_type": "markdown",
   "id": "38598432-2ed0-4809-a33c-8f13daa33d53",
   "metadata": {},
   "source": [
    "### Transformers are everywhere!"
   ]
  },
  {
   "cell_type": "markdown",
   "id": "ef9a5fb3-afc3-4786-a2bd-674f06daa69a",
   "metadata": {},
   "source": [
    "Transformer models are used to solve all kinds of tasks across different modalities, including natural language processing (NLP), computer vision, audio processing, and more. Here are some of the companies and organizations using Hugging Face and Transformer models, who also contribute back to the community by sharing their models:"
   ]
  },
  {
   "cell_type": "markdown",
   "id": "3db3252e-ffc0-449e-a2e9-b6dab79ef550",
   "metadata": {},
   "source": [
    "![Companies](./images/companies.png)"
   ]
  },
  {
   "cell_type": "markdown",
   "id": "dd217973-b219-4612-866a-8bc5d0917068",
   "metadata": {},
   "source": [
    "### Working with pipelines"
   ]
  },
  {
   "cell_type": "markdown",
   "id": "c2a25003-97ca-46fc-bdb6-bc73ebefb756",
   "metadata": {},
   "source": [
    "The most basic object in the 🤗 Transformers library is the `pipeline()` function. It connects a model with its necessary preprocessing and postprocessing steps, allowing us to directly input any text and get an intelligible answer:"
   ]
  },
  {
   "cell_type": "code",
   "execution_count": null,
   "id": "84f5aa20-5a46-46f2-8b54-fe7d23b8a0a7",
   "metadata": {},
   "outputs": [],
   "source": [
    "from transformers import pipeline\n",
    "\n",
    "classifier = pipeline(\"sentiment-analysis\")\n",
    "classifier(\"I've been waiting for a HuggingFace course my whole life.\")"
   ]
  },
  {
   "cell_type": "markdown",
   "id": "7e7d6f5f-6da6-45c9-a224-c3821e8b5e24",
   "metadata": {},
   "source": [
    "By default, this pipeline selects a particular pretrained model that has been fine-tuned for sentiment analysis in English. The model is downloaded and cached when you create the classifier object. If you rerun the command, the cached model will be used instead and there is no need to download the model again.\n",
    "\n",
    "There are three main steps involved when you pass some text to a pipeline:\n",
    "\n",
    "1. The text is preprocessed into a format the model can understand.\n",
    "2. The preprocessed inputs are passed to the model.\n",
    "3. The predictions of the model are post-processed, so you can make sense of them."
   ]
  },
  {
   "cell_type": "markdown",
   "id": "bc55b518-c79a-4965-a0a3-3e5e16ea7010",
   "metadata": {},
   "source": [
    "### Available pipelines for different modalities"
   ]
  },
  {
   "cell_type": "markdown",
   "id": "e568483a-017a-4203-925c-f57e2b5b7cfc",
   "metadata": {},
   "source": [
    "The `pipeline()` function supports multiple modalities, allowing you to work with text, images, audio, and even multimodal tasks. In this course we’ll focus on text tasks, but it’s useful to understand the transformer architecture’s potential, so we’ll briefly outline it.\n",
    "\n",
    "Here’s an overview of what’s available:\n",
    "\n",
    "> For a full and updated list of pipelines, see the [🤗 Transformers documentation](https://huggingface.co/docs/hub/en/models-tasks)."
   ]
  },
  {
   "cell_type": "markdown",
   "id": "38abc6ce-6036-4476-90bc-35d52397a98f",
   "metadata": {},
   "source": [
    "#### Text pipelines\n",
    "\n",
    "- `text-generation`: Generate text from a prompt\n",
    "- `text-classification`: Classify text into predefined categories\n",
    "- `summarization`: Create a shorter version of a text while preserving key information\n",
    "- `translation`: Translate text from one language to another\n",
    "- `zero-shot-classification`: Classify text without prior training on specific labels\n",
    "- `feature-extraction`: Extract vector representations of text"
   ]
  },
  {
   "cell_type": "markdown",
   "id": "38f4b4f3-e7df-4fdc-8442-5b4c5eeaee60",
   "metadata": {},
   "source": [
    "#### Audio pipelines\n",
    "- `automatic-speech-recognition`: Convert speech to text\n",
    "- `audio-classification`: Classify audio into categories\n",
    "- `text-to-speech`: Convert text to spoken audio"
   ]
  },
  {
   "cell_type": "markdown",
   "id": "a0189be7-7648-419b-8692-1ec0bed77745",
   "metadata": {},
   "source": [
    "#### Multimodal pipelines\n",
    "- `image-text-to-text`: Respond to an image based on a text prompt\n",
    "\n",
    "Let’s explore some of these pipelines in more detail!"
   ]
  },
  {
   "cell_type": "markdown",
   "id": "be9b176d-a1e3-41be-a03b-ca7fcb521538",
   "metadata": {},
   "source": [
    "### Zero-shot classification"
   ]
  },
  {
   "cell_type": "markdown",
   "id": "967d61ce-7a6b-441d-9521-8824f1447ebb",
   "metadata": {},
   "source": [
    "We’ll start by tackling a more challenging task where we need to classify texts that haven’t been labelled. This is a common scenario in real-world projects because annotating text is usually time-consuming and requires domain expertise. For this use case, the zero-shot-classification pipeline is very powerful: it allows you to specify which labels to use for the classification, so you don’t have to rely on the labels of the pretrained model. You’ve already seen how the model can classify a sentence as positive or negative using those two labels — but it can also classify the text using any other set of labels you like."
   ]
  },
  {
   "cell_type": "code",
   "execution_count": null,
   "id": "0ed687cd-0fae-49da-ba4b-cfb35fe3a2f5",
   "metadata": {},
   "outputs": [],
   "source": [
    "from transformers import pipeline\n",
    "\n",
    "classifier = pipeline(\"zero-shot-classification\")\n",
    "classifier(\n",
    "    \"HuggingFace Transformers pipeline tutorial\",\n",
    "    candidate_labels = [\"education\", \"politics\", \"business\"],\n",
    ")"
   ]
  },
  {
   "cell_type": "markdown",
   "id": "5ef598d6-a297-4a0d-b42c-94182196f001",
   "metadata": {},
   "source": [
    "This pipeline is called zero-shot because you don’t need to fine-tune the model on your data to use it. It can directly return probability scores for any list of labels you want!\n",
    "\n",
    "> ✏️ Try it out! Play around with your own sequences and labels and see how the model behaves."
   ]
  },
  {
   "cell_type": "markdown",
   "id": "02e5406f-d1f3-415a-95fb-f6f339f4bbb9",
   "metadata": {},
   "source": [
    "### Text generation"
   ]
  },
  {
   "cell_type": "markdown",
   "id": "9fb7ccf6-7390-44b0-a10e-1ab392bab451",
   "metadata": {},
   "source": [
    "Now let’s see how to use a pipeline to generate some text. The main idea here is that you provide a prompt and the model will auto-complete it by generating the remaining text. This is similar to the predictive text feature that is found on many phones. Text generation involves randomness, so it’s normal if you don’t get the same results as shown below."
   ]
  },
  {
   "cell_type": "code",
   "execution_count": null,
   "id": "593d57c8-92ab-4be3-aaab-7ac1e1687e6f",
   "metadata": {},
   "outputs": [],
   "source": [
    "from transformers import pipeline\n",
    "\n",
    "generator = pipeline(\"text-generation\")\n",
    "generator(\"In this course, we will teach you how to\", num_return_sequences=3)\n",
    "#generator(\"In this course, we will teach you how to\", num_return_sequences=3, max_length=30, truncation=True)"
   ]
  },
  {
   "cell_type": "markdown",
   "id": "aae8facd-8252-46d4-801f-ac50703dc77c",
   "metadata": {},
   "source": [
    "You can control how many different sequences are generated with the argument num_return_sequences and the total length of the output text with the argument max_length.\n",
    "\n",
    "> ✏️ Try it out! Use the `num_return_sequences` and `max_length` arguments to generate two sentences of 15 words each."
   ]
  },
  {
   "cell_type": "markdown",
   "id": "a536eeaa-aac3-4c2b-8cc4-31af04f76180",
   "metadata": {},
   "source": [
    "### Using any model from the Hub in a pipeline"
   ]
  },
  {
   "cell_type": "markdown",
   "id": "e9a0bab0-6eb8-4a46-9797-dda5f3383a69",
   "metadata": {},
   "source": [
    "The previous examples used the default model for the task at hand, but you can also choose a particular model from the Hub to use in a pipeline for a specific task — say, text generation. Go to the [Model Hub](https://huggingface.co/models) and click on the corresponding tag on the left to display only the supported models for that task. You should get to a page like [this one](https://huggingface.co/models?pipeline_tag=text-generation).\n",
    "\n",
    "Let’s try the [HuggingFaceTB/SmolLM2-360M](https://huggingface.co/HuggingFaceTB/SmolLM2-360M) model! Here’s how to load it in the same pipeline as before:"
   ]
  },
  {
   "cell_type": "code",
   "execution_count": null,
   "id": "efd574e6-6c8d-49f5-9e54-e70dc16effb0",
   "metadata": {},
   "outputs": [],
   "source": [
    "from transformers import pipeline\n",
    "\n",
    "generator = pipeline(\"text-generation\", model=\"HuggingFaceTB/SmolLM2-360M\")\n",
    "generator(\n",
    "    \"In this course, we will teach you how to\",\n",
    "    max_length=30,\n",
    "    num_return_sequences=2,\n",
    "    do_sample=True,\n",
    "    num_beams=2\n",
    ")"
   ]
  },
  {
   "cell_type": "markdown",
   "id": "8ea1fa4d-c084-4bc4-b08d-d3758cbc7333",
   "metadata": {},
   "source": [
    "You can refine your search for a model by clicking on the language tags, and pick a model that will generate text in another language. The Model Hub even contains checkpoints for multilingual models that support several languages.\n",
    "\n",
    "Once you select a model by clicking on it, you’ll see that there is a widget enabling you to try it directly online. This way you can quickly test the model’s capabilities before downloading it.\n",
    "\n",
    "> ✏️ Try it out! Use the filters to find a text generation model for another language. Feel free to play with the widget and use it in a pipeline!"
   ]
  },
  {
   "cell_type": "markdown",
   "id": "db7cc322-479b-4317-939d-1d1e1653e57f",
   "metadata": {},
   "source": [
    "#### Inference Providers"
   ]
  },
  {
   "cell_type": "markdown",
   "id": "eb9b93ba-f8d3-4029-b4bd-df6d407fa37e",
   "metadata": {},
   "source": [
    "All the models can be tested directly through your browser using the Inference Providers, which is available on the Hugging Face [website](https://huggingface.co/docs/inference-providers/en/index). You can play with the model directly on this page by inputting custom text and watching the model process the input data.\n",
    "\n",
    "Inference Providers that powers the widget is also available as a paid product, which comes in handy if you need it for your workflows. See the [pricing page](https://huggingface.co/docs/inference-providers/en/pricing) for more details."
   ]
  },
  {
   "cell_type": "markdown",
   "id": "ed4c0d0a-9c8e-4357-b0e3-dd8161950e0f",
   "metadata": {},
   "source": [
    "### Mask filling"
   ]
  },
  {
   "cell_type": "markdown",
   "id": "f3c78640-6513-4a5a-9cca-5b6e33c7b855",
   "metadata": {},
   "source": [
    "The next pipeline you’ll try is fill-mask. The idea of this task is to fill in the blanks in a given text:"
   ]
  },
  {
   "cell_type": "code",
   "execution_count": null,
   "id": "e88d5188-1cb0-4cda-b74c-114e6635f224",
   "metadata": {},
   "outputs": [],
   "source": [
    "from transformers import pipeline\n",
    "\n",
    "unmasker = pipeline(\"fill-mask\")\n",
    "unmasker(\"This course will teach you all about <mask> models.\", top_k=2)"
   ]
  },
  {
   "cell_type": "markdown",
   "id": "804d060e-9798-4acd-a0c8-f5c493c0a899",
   "metadata": {},
   "source": [
    "The `top_k` argument controls how many possibilities you want to be displayed. Note that here the model fills in the special `<mask>` word, which is often referred to as a mask token. Other mask-filling models might have different mask tokens, so it’s always good to verify the proper mask word when exploring other models. One way to check it is by looking at the mask word used in the widget.\n",
    "\n",
    "> ✏️ Try it out! Search for the `bert-base-cased` model on the Hub and identify its mask word in the Inference API widget. What does this model predict for the sentence in our `pipeline` example above?"
   ]
  },
  {
   "cell_type": "markdown",
   "id": "8346b399-409d-42e3-9c10-e9c8a9e7ebbf",
   "metadata": {},
   "source": [
    "### Named entity recognition"
   ]
  },
  {
   "cell_type": "markdown",
   "id": "cfed4c55-810b-4125-a029-c1d6557e31f2",
   "metadata": {},
   "source": [
    "Named entity recognition (NER) is a task where the model has to find which parts of the input text correspond to entities such as persons, locations, or organizations. Let’s look at an example:"
   ]
  },
  {
   "cell_type": "code",
   "execution_count": null,
   "id": "64c41ffb-b6e6-451c-9f17-e99c0c4f02ca",
   "metadata": {},
   "outputs": [],
   "source": [
    "from transformers import pipeline\n",
    "\n",
    "ner = pipeline(\"ner\", grouped_entities=True)\n",
    "ner(\"My name is Sylvain and I work at Hugging Face in Brooklyn.\")"
   ]
  },
  {
   "cell_type": "markdown",
   "id": "c30cbd94-04fb-4cf7-b915-44e09b90d6f5",
   "metadata": {},
   "source": [
    "Here the model correctly identified that Sylvain is a person (PER), Hugging Face an organization (ORG), and Brooklyn a location (LOC).\n",
    "\n",
    "We pass the option grouped_entities=True in the pipeline creation function to tell the pipeline to regroup together the parts of the sentence that correspond to the same entity: here the model correctly grouped “Hugging” and “Face” as a single organization, even though the name consists of multiple words. In fact, as we will see in the next chapter, the preprocessing even splits some words into smaller parts. For instance, Sylvain is split into four pieces: S, ##yl, ##va, and ##in. In the post-processing step, the pipeline successfully regrouped those pieces.\n",
    "\n",
    "✏️ Try it out! Search the Model Hub for a model able to do part-of-speech tagging (usually abbreviated as POS) in English. What does this model predict for the sentence in the example above?"
   ]
  },
  {
   "cell_type": "markdown",
   "id": "57d83f6c-1f61-46a1-a93e-2e7031903a57",
   "metadata": {},
   "source": [
    "### Question answering"
   ]
  },
  {
   "cell_type": "markdown",
   "id": "dcb731b7-7918-4611-881f-bf5038ba7931",
   "metadata": {},
   "source": [
    "The question-answering pipeline answers questions using information from a given context:"
   ]
  },
  {
   "cell_type": "code",
   "execution_count": null,
   "id": "7dc9a649-8735-4b21-aac8-3a57e31d31c2",
   "metadata": {},
   "outputs": [],
   "source": [
    "from transformers import pipeline\n",
    "\n",
    "question_answerer = pipeline(\"question-answering\")\n",
    "question_answerer(\n",
    "    question=\"Where do I work?\",\n",
    "    context=\"My name is Sylvain and I work at Hugging Face in Brooklyn\",\n",
    ")"
   ]
  },
  {
   "cell_type": "markdown",
   "id": "e0f6a7f2-0317-4749-9f93-7a93519d4656",
   "metadata": {},
   "source": [
    "Note that this pipeline works by extracting information from the provided context; it does not generate the answer."
   ]
  },
  {
   "cell_type": "markdown",
   "id": "18488ea0-0ec0-4c15-94ae-71569fb7e83f",
   "metadata": {},
   "source": [
    "### Summarization\n"
   ]
  },
  {
   "cell_type": "markdown",
   "id": "4b8fffeb-e41f-4d75-a5ea-8bf64bf35a69",
   "metadata": {},
   "source": [
    "Summarization is the task of reducing a text into a shorter text while keeping all (or most) of the important aspects referenced in the text. Here’s an example:"
   ]
  },
  {
   "cell_type": "code",
   "execution_count": null,
   "id": "996d5d9f-c85e-499e-ac68-7c2ca204d45b",
   "metadata": {},
   "outputs": [],
   "source": [
    "from transformers import pipeline\n",
    "\n",
    "summarizer = pipeline(\"summarization\")\n",
    "summarizer(\n",
    "    \"\"\"\n",
    "    America has changed dramatically during recent years. Not only has the number of\n",
    "    graduates in traditional engineering disciplines such as mechanical, civil,\n",
    "    electrical, chemical, and aeronautical engineering declined, but in most of\n",
    "    the premier American universities engineering curricula now concentrate on\n",
    "    and encourage largely the study of engineering science. As a result, there\n",
    "    are declining offerings in engineering subjects dealing with infrastructure,\n",
    "    the environment, and related issues, and greater concentration on high\n",
    "    technology subjects, largely supporting increasingly complex scientific\n",
    "    developments. While the latter is important, it should not be at the expense\n",
    "    of more traditional engineering.\n",
    "\n",
    "    Rapidly developing economies such as China and India, as well as other\n",
    "    industrial countries in Europe and Asia, continue to encourage and advance\n",
    "    the teaching of engineering. Both China and India, respectively, graduate\n",
    "    six and eight times as many traditional engineers as does the United States.\n",
    "    Other industrial countries at minimum maintain their output, while America\n",
    "    suffers an increasingly serious decline in the number of engineering graduates\n",
    "    and a lack of well-educated engineers.\n",
    "\"\"\"\n",
    ")"
   ]
  },
  {
   "cell_type": "markdown",
   "id": "c3646940-8e11-4024-b3c2-a1fc19bee77a",
   "metadata": {},
   "source": [
    "Like with text generation, you can specify a `max_length` or a `min_length` for the result."
   ]
  },
  {
   "cell_type": "markdown",
   "id": "ec0d4769-90dd-4da8-9647-61c98f19f0fc",
   "metadata": {},
   "source": [
    "### Translation"
   ]
  },
  {
   "cell_type": "markdown",
   "id": "597380a1-4f53-4060-ad71-6e7dbce15d05",
   "metadata": {},
   "source": [
    "For translation, you can use a default model if you provide a language pair in the task name (such as `\"translation_en_to_fr\"`), but the easiest way is to pick the model you want to use on the [Model Hub](https://huggingface.co/models). Here we’ll try translating from French to English:"
   ]
  },
  {
   "cell_type": "code",
   "execution_count": null,
   "id": "079a5a0e-38c0-4fed-a584-29f4b990e69f",
   "metadata": {},
   "outputs": [],
   "source": [
    "from transformers import pipeline\n",
    "\n",
    "translator = pipeline(\"translation\", model=\"Helsinki-NLP/opus-mt-fr-en\")\n",
    "translator(\"Ce cours est produit par Hugging Face.\")"
   ]
  },
  {
   "cell_type": "markdown",
   "id": "4c23b73a-b786-421e-a305-c271c2010faf",
   "metadata": {},
   "source": [
    "Like with text generation and summarization, you can specify a max_length or a min_length for the result.\n",
    "\n",
    "> ✏️ Try it out! Search for translation models in other languages and try to translate the previous sentence into a few different languages."
   ]
  },
  {
   "cell_type": "markdown",
   "id": "3a1e2b82-68c5-4d96-9e40-88ea57263b6a",
   "metadata": {},
   "source": [
    "### Image and audio pipelines"
   ]
  },
  {
   "cell_type": "markdown",
   "id": "5530a278-229e-4058-b5c7-a552074983cf",
   "metadata": {},
   "source": [
    "Beyond text, Transformer models can also work with images and audio. Here are a few examples:"
   ]
  },
  {
   "cell_type": "markdown",
   "id": "d39728dc-925a-4d86-8ab5-12e70bf0aa3d",
   "metadata": {},
   "source": [
    "#### Image classification"
   ]
  },
  {
   "cell_type": "code",
   "execution_count": null,
   "id": "91232829-85f3-456b-aef9-175803c370a7",
   "metadata": {},
   "outputs": [],
   "source": [
    "from transformers import pipeline\n",
    "\n",
    "image_classifier = pipeline(\n",
    "    task=\"image-classification\", model=\"google/vit-base-patch16-224\"\n",
    ")\n",
    "result = image_classifier(\n",
    "    \"https://huggingface.co/datasets/huggingface/documentation-images/resolve/main/pipeline-cat-chonk.jpeg\"\n",
    ")\n",
    "print(result)"
   ]
  },
  {
   "cell_type": "markdown",
   "id": "8219ac50-d602-45aa-bdf9-e60cd3707cdf",
   "metadata": {},
   "source": [
    "#### Automatic speech recognition"
   ]
  },
  {
   "cell_type": "code",
   "execution_count": null,
   "id": "7443075c-cb0f-45f6-a634-69fb45d0844f",
   "metadata": {},
   "outputs": [],
   "source": [
    "from transformers import pipeline\n",
    "\n",
    "transcriber = pipeline(\n",
    "    task=\"automatic-speech-recognition\", model=\"openai/whisper-large-v3\"\n",
    ")\n",
    "result = transcriber(\n",
    "    \"https://huggingface.co/datasets/Narsil/asr_dummy/resolve/main/mlk.flac\"\n",
    ")\n",
    "print(result)"
   ]
  },
  {
   "cell_type": "markdown",
   "id": "aa90a1f1-d027-4536-a482-1b1c089f3188",
   "metadata": {},
   "source": [
    "### Combining data from multiple sources"
   ]
  },
  {
   "cell_type": "markdown",
   "id": "1f64cccf-ce24-4a17-9141-abce7c0ebb3b",
   "metadata": {},
   "source": [
    "One powerful application of Transformer models is their ability to combine and process data from multiple sources. This is especially useful when you need to:\n",
    "\n",
    "1. Search across multiple databases or repositories\n",
    "2. Consolidate information from different formats (text, images, audio)\n",
    "3. Create a unified view of related information\n",
    "\n",
    "For example, you could build a system that:\n",
    "\n",
    "- Searches for information across databases in multiple modalities like text and image.\n",
    "- Combines results from different sources into a single coherent response. For example, from an audio file and text description.\n",
    "- Presents the most relevant information from a database of documents and metadata."
   ]
  },
  {
   "cell_type": "markdown",
   "id": "2c9050e4-1cf2-476b-90cd-7eeea4348dea",
   "metadata": {},
   "source": [
    "### Conclusion"
   ]
  },
  {
   "cell_type": "markdown",
   "id": "0d145487-9437-4a24-82b2-7706c376c982",
   "metadata": {},
   "source": [
    "The pipelines shown in this chapter are mostly for demonstrative purposes. They were programmed for specific tasks and cannot perform variations of them. In the next chapter, you’ll learn what’s inside a pipeline() function and how to customize its behavior."
   ]
  },
  {
   "cell_type": "code",
   "execution_count": null,
   "id": "e359792d-bd25-442e-80a4-691a8db48d7b",
   "metadata": {},
   "outputs": [],
   "source": []
  }
 ],
 "metadata": {
  "kernelspec": {
   "display_name": "Python 3 (ipykernel)",
   "language": "python",
   "name": "python3"
  },
  "language_info": {
   "codemirror_mode": {
    "name": "ipython",
    "version": 3
   },
   "file_extension": ".py",
   "mimetype": "text/x-python",
   "name": "python",
   "nbconvert_exporter": "python",
   "pygments_lexer": "ipython3",
   "version": "3.12.5"
  }
 },
 "nbformat": 4,
 "nbformat_minor": 5
}
